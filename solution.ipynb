{
 "cells": [
  {
   "cell_type": "code",
   "execution_count": 1,
   "metadata": {},
   "outputs": [],
   "source": [
    "%matplotlib inline"
   ]
  },
  {
   "cell_type": "code",
   "execution_count": 2,
   "metadata": {},
   "outputs": [],
   "source": [
    "import pandas as pd\n",
    "import numpy as np\n",
    "from sklearn.model_selection import train_test_split\n",
    "import matplotlib.pyplot as plt\n",
    "import seaborn as sns\n",
    "import matplotlib\n",
    "from sklearn.base import BaseEstimator, TransformerMixin\n",
    "from pandas_profiling import ProfileReport\n",
    "from pathlib import Path\n",
    "import missingno as msno\n",
    "from sklearn.preprocessing import OneHotEncoder, MinMaxScaler, OrdinalEncoder\n",
    "from sklearn.pipeline import Pipeline\n",
    "from imblearn.over_sampling import SMOTE\n",
    "import tkinter\n",
    "matplotlib.use('Agg')"
   ]
  },
  {
   "cell_type": "markdown",
   "metadata": {},
   "source": [
    "# Import DataFrames"
   ]
  },
  {
   "cell_type": "code",
   "execution_count": 3,
   "metadata": {},
   "outputs": [],
   "source": [
    "full_data = pd.read_csv(\"./datasets/application_record.csv\")\n",
    "credit_data = pd.read_csv(\"./datasets/credit_record.csv\")"
   ]
  },
  {
   "cell_type": "code",
   "execution_count": 4,
   "metadata": {},
   "outputs": [
    {
     "data": {
      "text/html": [
       "<div>\n",
       "<style scoped>\n",
       "    .dataframe tbody tr th:only-of-type {\n",
       "        vertical-align: middle;\n",
       "    }\n",
       "\n",
       "    .dataframe tbody tr th {\n",
       "        vertical-align: top;\n",
       "    }\n",
       "\n",
       "    .dataframe thead th {\n",
       "        text-align: right;\n",
       "    }\n",
       "</style>\n",
       "<table border=\"1\" class=\"dataframe\">\n",
       "  <thead>\n",
       "    <tr style=\"text-align: right;\">\n",
       "      <th></th>\n",
       "      <th>ID</th>\n",
       "      <th>CODE_GENDER</th>\n",
       "      <th>FLAG_OWN_CAR</th>\n",
       "      <th>FLAG_OWN_REALTY</th>\n",
       "      <th>CNT_CHILDREN</th>\n",
       "      <th>AMT_INCOME_TOTAL</th>\n",
       "      <th>NAME_INCOME_TYPE</th>\n",
       "      <th>NAME_EDUCATION_TYPE</th>\n",
       "      <th>NAME_FAMILY_STATUS</th>\n",
       "      <th>NAME_HOUSING_TYPE</th>\n",
       "      <th>DAYS_BIRTH</th>\n",
       "      <th>DAYS_EMPLOYED</th>\n",
       "      <th>FLAG_MOBIL</th>\n",
       "      <th>FLAG_WORK_PHONE</th>\n",
       "      <th>FLAG_PHONE</th>\n",
       "      <th>FLAG_EMAIL</th>\n",
       "      <th>OCCUPATION_TYPE</th>\n",
       "      <th>CNT_FAM_MEMBERS</th>\n",
       "    </tr>\n",
       "  </thead>\n",
       "  <tbody>\n",
       "    <tr>\n",
       "      <th>0</th>\n",
       "      <td>5008804</td>\n",
       "      <td>M</td>\n",
       "      <td>Y</td>\n",
       "      <td>Y</td>\n",
       "      <td>0</td>\n",
       "      <td>427500.0</td>\n",
       "      <td>Working</td>\n",
       "      <td>Higher education</td>\n",
       "      <td>Civil marriage</td>\n",
       "      <td>Rented apartment</td>\n",
       "      <td>-12005</td>\n",
       "      <td>-4542</td>\n",
       "      <td>1</td>\n",
       "      <td>1</td>\n",
       "      <td>0</td>\n",
       "      <td>0</td>\n",
       "      <td>NaN</td>\n",
       "      <td>2.0</td>\n",
       "    </tr>\n",
       "    <tr>\n",
       "      <th>1</th>\n",
       "      <td>5008805</td>\n",
       "      <td>M</td>\n",
       "      <td>Y</td>\n",
       "      <td>Y</td>\n",
       "      <td>0</td>\n",
       "      <td>427500.0</td>\n",
       "      <td>Working</td>\n",
       "      <td>Higher education</td>\n",
       "      <td>Civil marriage</td>\n",
       "      <td>Rented apartment</td>\n",
       "      <td>-12005</td>\n",
       "      <td>-4542</td>\n",
       "      <td>1</td>\n",
       "      <td>1</td>\n",
       "      <td>0</td>\n",
       "      <td>0</td>\n",
       "      <td>NaN</td>\n",
       "      <td>2.0</td>\n",
       "    </tr>\n",
       "    <tr>\n",
       "      <th>2</th>\n",
       "      <td>5008806</td>\n",
       "      <td>M</td>\n",
       "      <td>Y</td>\n",
       "      <td>Y</td>\n",
       "      <td>0</td>\n",
       "      <td>112500.0</td>\n",
       "      <td>Working</td>\n",
       "      <td>Secondary / secondary special</td>\n",
       "      <td>Married</td>\n",
       "      <td>House / apartment</td>\n",
       "      <td>-21474</td>\n",
       "      <td>-1134</td>\n",
       "      <td>1</td>\n",
       "      <td>0</td>\n",
       "      <td>0</td>\n",
       "      <td>0</td>\n",
       "      <td>Security staff</td>\n",
       "      <td>2.0</td>\n",
       "    </tr>\n",
       "    <tr>\n",
       "      <th>3</th>\n",
       "      <td>5008808</td>\n",
       "      <td>F</td>\n",
       "      <td>N</td>\n",
       "      <td>Y</td>\n",
       "      <td>0</td>\n",
       "      <td>270000.0</td>\n",
       "      <td>Commercial associate</td>\n",
       "      <td>Secondary / secondary special</td>\n",
       "      <td>Single / not married</td>\n",
       "      <td>House / apartment</td>\n",
       "      <td>-19110</td>\n",
       "      <td>-3051</td>\n",
       "      <td>1</td>\n",
       "      <td>0</td>\n",
       "      <td>1</td>\n",
       "      <td>1</td>\n",
       "      <td>Sales staff</td>\n",
       "      <td>1.0</td>\n",
       "    </tr>\n",
       "    <tr>\n",
       "      <th>4</th>\n",
       "      <td>5008809</td>\n",
       "      <td>F</td>\n",
       "      <td>N</td>\n",
       "      <td>Y</td>\n",
       "      <td>0</td>\n",
       "      <td>270000.0</td>\n",
       "      <td>Commercial associate</td>\n",
       "      <td>Secondary / secondary special</td>\n",
       "      <td>Single / not married</td>\n",
       "      <td>House / apartment</td>\n",
       "      <td>-19110</td>\n",
       "      <td>-3051</td>\n",
       "      <td>1</td>\n",
       "      <td>0</td>\n",
       "      <td>1</td>\n",
       "      <td>1</td>\n",
       "      <td>Sales staff</td>\n",
       "      <td>1.0</td>\n",
       "    </tr>\n",
       "    <tr>\n",
       "      <th>...</th>\n",
       "      <td>...</td>\n",
       "      <td>...</td>\n",
       "      <td>...</td>\n",
       "      <td>...</td>\n",
       "      <td>...</td>\n",
       "      <td>...</td>\n",
       "      <td>...</td>\n",
       "      <td>...</td>\n",
       "      <td>...</td>\n",
       "      <td>...</td>\n",
       "      <td>...</td>\n",
       "      <td>...</td>\n",
       "      <td>...</td>\n",
       "      <td>...</td>\n",
       "      <td>...</td>\n",
       "      <td>...</td>\n",
       "      <td>...</td>\n",
       "      <td>...</td>\n",
       "    </tr>\n",
       "    <tr>\n",
       "      <th>438552</th>\n",
       "      <td>6840104</td>\n",
       "      <td>M</td>\n",
       "      <td>N</td>\n",
       "      <td>Y</td>\n",
       "      <td>0</td>\n",
       "      <td>135000.0</td>\n",
       "      <td>Pensioner</td>\n",
       "      <td>Secondary / secondary special</td>\n",
       "      <td>Separated</td>\n",
       "      <td>House / apartment</td>\n",
       "      <td>-22717</td>\n",
       "      <td>365243</td>\n",
       "      <td>1</td>\n",
       "      <td>0</td>\n",
       "      <td>0</td>\n",
       "      <td>0</td>\n",
       "      <td>NaN</td>\n",
       "      <td>1.0</td>\n",
       "    </tr>\n",
       "    <tr>\n",
       "      <th>438553</th>\n",
       "      <td>6840222</td>\n",
       "      <td>F</td>\n",
       "      <td>N</td>\n",
       "      <td>N</td>\n",
       "      <td>0</td>\n",
       "      <td>103500.0</td>\n",
       "      <td>Working</td>\n",
       "      <td>Secondary / secondary special</td>\n",
       "      <td>Single / not married</td>\n",
       "      <td>House / apartment</td>\n",
       "      <td>-15939</td>\n",
       "      <td>-3007</td>\n",
       "      <td>1</td>\n",
       "      <td>0</td>\n",
       "      <td>0</td>\n",
       "      <td>0</td>\n",
       "      <td>Laborers</td>\n",
       "      <td>1.0</td>\n",
       "    </tr>\n",
       "    <tr>\n",
       "      <th>438554</th>\n",
       "      <td>6841878</td>\n",
       "      <td>F</td>\n",
       "      <td>N</td>\n",
       "      <td>N</td>\n",
       "      <td>0</td>\n",
       "      <td>54000.0</td>\n",
       "      <td>Commercial associate</td>\n",
       "      <td>Higher education</td>\n",
       "      <td>Single / not married</td>\n",
       "      <td>With parents</td>\n",
       "      <td>-8169</td>\n",
       "      <td>-372</td>\n",
       "      <td>1</td>\n",
       "      <td>1</td>\n",
       "      <td>0</td>\n",
       "      <td>0</td>\n",
       "      <td>Sales staff</td>\n",
       "      <td>1.0</td>\n",
       "    </tr>\n",
       "    <tr>\n",
       "      <th>438555</th>\n",
       "      <td>6842765</td>\n",
       "      <td>F</td>\n",
       "      <td>N</td>\n",
       "      <td>Y</td>\n",
       "      <td>0</td>\n",
       "      <td>72000.0</td>\n",
       "      <td>Pensioner</td>\n",
       "      <td>Secondary / secondary special</td>\n",
       "      <td>Married</td>\n",
       "      <td>House / apartment</td>\n",
       "      <td>-21673</td>\n",
       "      <td>365243</td>\n",
       "      <td>1</td>\n",
       "      <td>0</td>\n",
       "      <td>0</td>\n",
       "      <td>0</td>\n",
       "      <td>NaN</td>\n",
       "      <td>2.0</td>\n",
       "    </tr>\n",
       "    <tr>\n",
       "      <th>438556</th>\n",
       "      <td>6842885</td>\n",
       "      <td>F</td>\n",
       "      <td>N</td>\n",
       "      <td>Y</td>\n",
       "      <td>0</td>\n",
       "      <td>121500.0</td>\n",
       "      <td>Working</td>\n",
       "      <td>Secondary / secondary special</td>\n",
       "      <td>Married</td>\n",
       "      <td>House / apartment</td>\n",
       "      <td>-18858</td>\n",
       "      <td>-1201</td>\n",
       "      <td>1</td>\n",
       "      <td>0</td>\n",
       "      <td>1</td>\n",
       "      <td>0</td>\n",
       "      <td>Sales staff</td>\n",
       "      <td>2.0</td>\n",
       "    </tr>\n",
       "  </tbody>\n",
       "</table>\n",
       "<p>438557 rows × 18 columns</p>\n",
       "</div>"
      ],
      "text/plain": [
       "             ID CODE_GENDER FLAG_OWN_CAR FLAG_OWN_REALTY  CNT_CHILDREN  \\\n",
       "0       5008804           M            Y               Y             0   \n",
       "1       5008805           M            Y               Y             0   \n",
       "2       5008806           M            Y               Y             0   \n",
       "3       5008808           F            N               Y             0   \n",
       "4       5008809           F            N               Y             0   \n",
       "...         ...         ...          ...             ...           ...   \n",
       "438552  6840104           M            N               Y             0   \n",
       "438553  6840222           F            N               N             0   \n",
       "438554  6841878           F            N               N             0   \n",
       "438555  6842765           F            N               Y             0   \n",
       "438556  6842885           F            N               Y             0   \n",
       "\n",
       "        AMT_INCOME_TOTAL      NAME_INCOME_TYPE            NAME_EDUCATION_TYPE  \\\n",
       "0               427500.0               Working               Higher education   \n",
       "1               427500.0               Working               Higher education   \n",
       "2               112500.0               Working  Secondary / secondary special   \n",
       "3               270000.0  Commercial associate  Secondary / secondary special   \n",
       "4               270000.0  Commercial associate  Secondary / secondary special   \n",
       "...                  ...                   ...                            ...   \n",
       "438552          135000.0             Pensioner  Secondary / secondary special   \n",
       "438553          103500.0               Working  Secondary / secondary special   \n",
       "438554           54000.0  Commercial associate               Higher education   \n",
       "438555           72000.0             Pensioner  Secondary / secondary special   \n",
       "438556          121500.0               Working  Secondary / secondary special   \n",
       "\n",
       "          NAME_FAMILY_STATUS  NAME_HOUSING_TYPE  DAYS_BIRTH  DAYS_EMPLOYED  \\\n",
       "0             Civil marriage   Rented apartment      -12005          -4542   \n",
       "1             Civil marriage   Rented apartment      -12005          -4542   \n",
       "2                    Married  House / apartment      -21474          -1134   \n",
       "3       Single / not married  House / apartment      -19110          -3051   \n",
       "4       Single / not married  House / apartment      -19110          -3051   \n",
       "...                      ...                ...         ...            ...   \n",
       "438552             Separated  House / apartment      -22717         365243   \n",
       "438553  Single / not married  House / apartment      -15939          -3007   \n",
       "438554  Single / not married       With parents       -8169           -372   \n",
       "438555               Married  House / apartment      -21673         365243   \n",
       "438556               Married  House / apartment      -18858          -1201   \n",
       "\n",
       "        FLAG_MOBIL  FLAG_WORK_PHONE  FLAG_PHONE  FLAG_EMAIL OCCUPATION_TYPE  \\\n",
       "0                1                1           0           0             NaN   \n",
       "1                1                1           0           0             NaN   \n",
       "2                1                0           0           0  Security staff   \n",
       "3                1                0           1           1     Sales staff   \n",
       "4                1                0           1           1     Sales staff   \n",
       "...            ...              ...         ...         ...             ...   \n",
       "438552           1                0           0           0             NaN   \n",
       "438553           1                0           0           0        Laborers   \n",
       "438554           1                1           0           0     Sales staff   \n",
       "438555           1                0           0           0             NaN   \n",
       "438556           1                0           1           0     Sales staff   \n",
       "\n",
       "        CNT_FAM_MEMBERS  \n",
       "0                   2.0  \n",
       "1                   2.0  \n",
       "2                   2.0  \n",
       "3                   1.0  \n",
       "4                   1.0  \n",
       "...                 ...  \n",
       "438552              1.0  \n",
       "438553              1.0  \n",
       "438554              1.0  \n",
       "438555              2.0  \n",
       "438556              2.0  \n",
       "\n",
       "[438557 rows x 18 columns]"
      ]
     },
     "execution_count": 4,
     "metadata": {},
     "output_type": "execute_result"
    }
   ],
   "source": [
    "full_data"
   ]
  },
  {
   "cell_type": "code",
   "execution_count": 5,
   "metadata": {},
   "outputs": [
    {
     "name": "stderr",
     "output_type": "stream",
     "text": [
      "C:\\Users\\Minh\\AppData\\Local\\Temp\\ipykernel_16916\\2922295951.py:7: SettingWithCopyWarning: \n",
      "A value is trying to be set on a copy of a slice from a DataFrame\n",
      "\n",
      "See the caveats in the documentation: https://pandas.pydata.org/pandas-docs/stable/user_guide/indexing.html#returning-a-view-versus-a-copy\n",
      "  credit_data['dep_value'][credit_data['STATUS'] =='2']='Yes'\n",
      "C:\\Users\\Minh\\AppData\\Local\\Temp\\ipykernel_16916\\2922295951.py:8: SettingWithCopyWarning: \n",
      "A value is trying to be set on a copy of a slice from a DataFrame\n",
      "\n",
      "See the caveats in the documentation: https://pandas.pydata.org/pandas-docs/stable/user_guide/indexing.html#returning-a-view-versus-a-copy\n",
      "  credit_data['dep_value'][credit_data['STATUS'] =='3']='Yes'\n",
      "C:\\Users\\Minh\\AppData\\Local\\Temp\\ipykernel_16916\\2922295951.py:9: SettingWithCopyWarning: \n",
      "A value is trying to be set on a copy of a slice from a DataFrame\n",
      "\n",
      "See the caveats in the documentation: https://pandas.pydata.org/pandas-docs/stable/user_guide/indexing.html#returning-a-view-versus-a-copy\n",
      "  credit_data['dep_value'][credit_data['STATUS'] =='4']='Yes'\n",
      "C:\\Users\\Minh\\AppData\\Local\\Temp\\ipykernel_16916\\2922295951.py:10: SettingWithCopyWarning: \n",
      "A value is trying to be set on a copy of a slice from a DataFrame\n",
      "\n",
      "See the caveats in the documentation: https://pandas.pydata.org/pandas-docs/stable/user_guide/indexing.html#returning-a-view-versus-a-copy\n",
      "  credit_data['dep_value'][credit_data['STATUS'] =='5']='Yes'\n"
     ]
    }
   ],
   "source": [
    "begin_month = pd.DataFrame(credit_data.groupby(\"MONTHS_BALANCE\").agg(min))\n",
    "begin_month = begin_month.rename(columns={'MONTHS_BALANCE':'Account age'})\n",
    "\n",
    "credit_full_data = pd.merge(full_data, begin_month, how=\"left\", on=\"ID\")\n",
    "\n",
    "credit_data[\"dep_value\"] = None\n",
    "credit_data['dep_value'][credit_data['STATUS'] =='2']='Yes'\n",
    "credit_data['dep_value'][credit_data['STATUS'] =='3']='Yes'\n",
    "credit_data['dep_value'][credit_data['STATUS'] =='4']='Yes'\n",
    "credit_data['dep_value'][credit_data['STATUS'] =='5']='Yes' \n",
    "cpunt = credit_data.groupby('ID').count()\n",
    "cpunt = cpunt[['dep_value']]\n",
    "cpunt['dep_value'][cpunt['dep_value'] > 0] = 'Yes'\n",
    "cpunt['dep_value'][cpunt['dep_value'] == 0] = 'No'\n",
    "cpunt = cpunt[['dep_value']]\n",
    "\n",
    "credit_full_data = pd.merge(credit_full_data, cpunt, how = 'inner', on = 'ID')\n",
    "credit_full_data[\"Is high risk\"] = credit_full_data['dep_value']    #Chỉ số đánh giá tín dụng\n",
    "\n",
    "credit_full_data.loc[credit_full_data[\"Is high risk\"] == 'Yes', 'Is high risk'] = 1\n",
    "credit_full_data.loc[credit_full_data[\"Is high risk\"] == 'No', 'Is high risk'] = 0\n",
    "credit_full_data.drop('dep_value',axis=1,inplace= True)\n"
   ]
  },
  {
   "cell_type": "markdown",
   "metadata": {},
   "source": [
    "### Reaname featrures"
   ]
  },
  {
   "cell_type": "code",
   "execution_count": 6,
   "metadata": {},
   "outputs": [],
   "source": [
    "credit_full_data = credit_full_data.rename(columns={\n",
    "    'CODE_GENDER':'Gender',\n",
    "    'FLAG_OWN_CAR':'Has a car',\n",
    "    'FLAG_OWN_REALTY':'Has a property',\n",
    "    'CNT_CHILDREN':'Children count',\n",
    "    'AMT_INCOME_TOTAL':'Income',\n",
    "    'NAME_INCOME_TYPE':'Employment status',\n",
    "    'NAME_EDUCATION_TYPE':'Education level',\n",
    "    'NAME_FAMILY_STATUS':'Marital status',\n",
    "    'NAME_HOUSING_TYPE':'Dwelling',\n",
    "    'DAYS_BIRTH':'Age',\n",
    "    'DAYS_EMPLOYED': 'Employment length',\n",
    "    'FLAG_MOBIL': 'Has a mobile phone',\n",
    "    'FLAG_WORK_PHONE': 'Has a work phone',\n",
    "    'FLAG_PHONE': 'Has a phone',\n",
    "    'FLAG_EMAIL': 'Has an email',\n",
    "    'OCCUPATION_TYPE': 'Job title',\n",
    "    'CNT_FAM_MEMBERS': 'Family member count',\n",
    "    'Account age': 'Account age'\n",
    "})"
   ]
  },
  {
   "cell_type": "code",
   "execution_count": 7,
   "metadata": {},
   "outputs": [
    {
     "name": "stdout",
     "output_type": "stream",
     "text": [
      "<class 'pandas.core.frame.DataFrame'>\n",
      "Int64Index: 36457 entries, 0 to 36456\n",
      "Data columns (total 20 columns):\n",
      " #   Column               Non-Null Count  Dtype  \n",
      "---  ------               --------------  -----  \n",
      " 0   ID                   36457 non-null  int64  \n",
      " 1   Gender               36457 non-null  object \n",
      " 2   Has a car            36457 non-null  object \n",
      " 3   Has a property       36457 non-null  object \n",
      " 4   Children count       36457 non-null  int64  \n",
      " 5   Income               36457 non-null  float64\n",
      " 6   Employment status    36457 non-null  object \n",
      " 7   Education level      36457 non-null  object \n",
      " 8   Marital status       36457 non-null  object \n",
      " 9   Dwelling             36457 non-null  object \n",
      " 10  Age                  36457 non-null  int64  \n",
      " 11  Employment length    36457 non-null  int64  \n",
      " 12  Has a mobile phone   36457 non-null  int64  \n",
      " 13  Has a work phone     36457 non-null  int64  \n",
      " 14  Has a phone          36457 non-null  int64  \n",
      " 15  Has an email         36457 non-null  int64  \n",
      " 16  Job title            25134 non-null  object \n",
      " 17  Family member count  36457 non-null  float64\n",
      " 18  STATUS               0 non-null      object \n",
      " 19  Is high risk         36457 non-null  object \n",
      "dtypes: float64(2), int64(8), object(10)\n",
      "memory usage: 5.8+ MB\n"
     ]
    }
   ],
   "source": [
    "credit_full_data.info()"
   ]
  },
  {
   "cell_type": "code",
   "execution_count": 8,
   "metadata": {},
   "outputs": [
    {
     "data": {
      "text/html": [
       "<div>\n",
       "<style scoped>\n",
       "    .dataframe tbody tr th:only-of-type {\n",
       "        vertical-align: middle;\n",
       "    }\n",
       "\n",
       "    .dataframe tbody tr th {\n",
       "        vertical-align: top;\n",
       "    }\n",
       "\n",
       "    .dataframe thead th {\n",
       "        text-align: right;\n",
       "    }\n",
       "</style>\n",
       "<table border=\"1\" class=\"dataframe\">\n",
       "  <thead>\n",
       "    <tr style=\"text-align: right;\">\n",
       "      <th></th>\n",
       "      <th>ID</th>\n",
       "      <th>CNT_CHILDREN</th>\n",
       "      <th>AMT_INCOME_TOTAL</th>\n",
       "      <th>DAYS_BIRTH</th>\n",
       "      <th>DAYS_EMPLOYED</th>\n",
       "      <th>FLAG_MOBIL</th>\n",
       "      <th>FLAG_WORK_PHONE</th>\n",
       "      <th>FLAG_PHONE</th>\n",
       "      <th>FLAG_EMAIL</th>\n",
       "      <th>CNT_FAM_MEMBERS</th>\n",
       "    </tr>\n",
       "  </thead>\n",
       "  <tbody>\n",
       "    <tr>\n",
       "      <th>count</th>\n",
       "      <td>4.385570e+05</td>\n",
       "      <td>438557.000000</td>\n",
       "      <td>4.385570e+05</td>\n",
       "      <td>438557.000000</td>\n",
       "      <td>438557.000000</td>\n",
       "      <td>438557.0</td>\n",
       "      <td>438557.000000</td>\n",
       "      <td>438557.000000</td>\n",
       "      <td>438557.000000</td>\n",
       "      <td>438557.000000</td>\n",
       "    </tr>\n",
       "    <tr>\n",
       "      <th>mean</th>\n",
       "      <td>6.022176e+06</td>\n",
       "      <td>0.427390</td>\n",
       "      <td>1.875243e+05</td>\n",
       "      <td>-15997.904649</td>\n",
       "      <td>60563.675328</td>\n",
       "      <td>1.0</td>\n",
       "      <td>0.206133</td>\n",
       "      <td>0.287771</td>\n",
       "      <td>0.108207</td>\n",
       "      <td>2.194465</td>\n",
       "    </tr>\n",
       "    <tr>\n",
       "      <th>std</th>\n",
       "      <td>5.716370e+05</td>\n",
       "      <td>0.724882</td>\n",
       "      <td>1.100869e+05</td>\n",
       "      <td>4185.030007</td>\n",
       "      <td>138767.799647</td>\n",
       "      <td>0.0</td>\n",
       "      <td>0.404527</td>\n",
       "      <td>0.452724</td>\n",
       "      <td>0.310642</td>\n",
       "      <td>0.897207</td>\n",
       "    </tr>\n",
       "    <tr>\n",
       "      <th>min</th>\n",
       "      <td>5.008804e+06</td>\n",
       "      <td>0.000000</td>\n",
       "      <td>2.610000e+04</td>\n",
       "      <td>-25201.000000</td>\n",
       "      <td>-17531.000000</td>\n",
       "      <td>1.0</td>\n",
       "      <td>0.000000</td>\n",
       "      <td>0.000000</td>\n",
       "      <td>0.000000</td>\n",
       "      <td>1.000000</td>\n",
       "    </tr>\n",
       "    <tr>\n",
       "      <th>25%</th>\n",
       "      <td>5.609375e+06</td>\n",
       "      <td>0.000000</td>\n",
       "      <td>1.215000e+05</td>\n",
       "      <td>-19483.000000</td>\n",
       "      <td>-3103.000000</td>\n",
       "      <td>1.0</td>\n",
       "      <td>0.000000</td>\n",
       "      <td>0.000000</td>\n",
       "      <td>0.000000</td>\n",
       "      <td>2.000000</td>\n",
       "    </tr>\n",
       "    <tr>\n",
       "      <th>50%</th>\n",
       "      <td>6.047745e+06</td>\n",
       "      <td>0.000000</td>\n",
       "      <td>1.607805e+05</td>\n",
       "      <td>-15630.000000</td>\n",
       "      <td>-1467.000000</td>\n",
       "      <td>1.0</td>\n",
       "      <td>0.000000</td>\n",
       "      <td>0.000000</td>\n",
       "      <td>0.000000</td>\n",
       "      <td>2.000000</td>\n",
       "    </tr>\n",
       "    <tr>\n",
       "      <th>75%</th>\n",
       "      <td>6.456971e+06</td>\n",
       "      <td>1.000000</td>\n",
       "      <td>2.250000e+05</td>\n",
       "      <td>-12514.000000</td>\n",
       "      <td>-371.000000</td>\n",
       "      <td>1.0</td>\n",
       "      <td>0.000000</td>\n",
       "      <td>1.000000</td>\n",
       "      <td>0.000000</td>\n",
       "      <td>3.000000</td>\n",
       "    </tr>\n",
       "    <tr>\n",
       "      <th>max</th>\n",
       "      <td>7.999952e+06</td>\n",
       "      <td>19.000000</td>\n",
       "      <td>6.750000e+06</td>\n",
       "      <td>-7489.000000</td>\n",
       "      <td>365243.000000</td>\n",
       "      <td>1.0</td>\n",
       "      <td>1.000000</td>\n",
       "      <td>1.000000</td>\n",
       "      <td>1.000000</td>\n",
       "      <td>20.000000</td>\n",
       "    </tr>\n",
       "  </tbody>\n",
       "</table>\n",
       "</div>"
      ],
      "text/plain": [
       "                 ID   CNT_CHILDREN  AMT_INCOME_TOTAL     DAYS_BIRTH  \\\n",
       "count  4.385570e+05  438557.000000      4.385570e+05  438557.000000   \n",
       "mean   6.022176e+06       0.427390      1.875243e+05  -15997.904649   \n",
       "std    5.716370e+05       0.724882      1.100869e+05    4185.030007   \n",
       "min    5.008804e+06       0.000000      2.610000e+04  -25201.000000   \n",
       "25%    5.609375e+06       0.000000      1.215000e+05  -19483.000000   \n",
       "50%    6.047745e+06       0.000000      1.607805e+05  -15630.000000   \n",
       "75%    6.456971e+06       1.000000      2.250000e+05  -12514.000000   \n",
       "max    7.999952e+06      19.000000      6.750000e+06   -7489.000000   \n",
       "\n",
       "       DAYS_EMPLOYED  FLAG_MOBIL  FLAG_WORK_PHONE     FLAG_PHONE  \\\n",
       "count  438557.000000    438557.0    438557.000000  438557.000000   \n",
       "mean    60563.675328         1.0         0.206133       0.287771   \n",
       "std    138767.799647         0.0         0.404527       0.452724   \n",
       "min    -17531.000000         1.0         0.000000       0.000000   \n",
       "25%     -3103.000000         1.0         0.000000       0.000000   \n",
       "50%     -1467.000000         1.0         0.000000       0.000000   \n",
       "75%      -371.000000         1.0         0.000000       1.000000   \n",
       "max    365243.000000         1.0         1.000000       1.000000   \n",
       "\n",
       "          FLAG_EMAIL  CNT_FAM_MEMBERS  \n",
       "count  438557.000000    438557.000000  \n",
       "mean        0.108207         2.194465  \n",
       "std         0.310642         0.897207  \n",
       "min         0.000000         1.000000  \n",
       "25%         0.000000         2.000000  \n",
       "50%         0.000000         2.000000  \n",
       "75%         0.000000         3.000000  \n",
       "max         1.000000        20.000000  "
      ]
     },
     "execution_count": 8,
     "metadata": {},
     "output_type": "execute_result"
    }
   ],
   "source": [
    "full_data.describe()"
   ]
  },
  {
   "cell_type": "code",
   "execution_count": 9,
   "metadata": {},
   "outputs": [
    {
     "name": "stderr",
     "output_type": "stream",
     "text": [
      "C:\\Users\\Minh\\AppData\\Local\\Temp\\ipykernel_16916\\342740527.py:3: UserWarning: Matplotlib is currently using agg, which is a non-GUI backend, so cannot show the figure.\n",
      "  plt.show()\n"
     ]
    }
   ],
   "source": [
    "msno.matrix(full_data)\n",
    "fig, ax = plt.subplots(figsize =(6, 10))\n",
    "plt.show()"
   ]
  },
  {
   "cell_type": "markdown",
   "metadata": {},
   "source": [
    "### Split data to training, testing and creating data"
   ]
  },
  {
   "cell_type": "code",
   "execution_count": 10,
   "metadata": {},
   "outputs": [],
   "source": [
    "def data_split(df, testsize):\n",
    "    train_df, test_df = train_test_split(df, test_size=testsize, random_state=42)\n",
    "    return train_df.reset_index(drop=True), test_df.reset_index(drop=True)"
   ]
  },
  {
   "cell_type": "code",
   "execution_count": 11,
   "metadata": {},
   "outputs": [],
   "source": [
    "train_original, test_original = data_split(credit_full_data, 0.2)"
   ]
  },
  {
   "cell_type": "code",
   "execution_count": 12,
   "metadata": {},
   "outputs": [
    {
     "data": {
      "text/plain": [
       "(29165, 20)"
      ]
     },
     "execution_count": 12,
     "metadata": {},
     "output_type": "execute_result"
    }
   ],
   "source": [
    "train_original.shape"
   ]
  },
  {
   "cell_type": "code",
   "execution_count": 13,
   "metadata": {},
   "outputs": [
    {
     "data": {
      "text/plain": [
       "(7292, 20)"
      ]
     },
     "execution_count": 13,
     "metadata": {},
     "output_type": "execute_result"
    }
   ],
   "source": [
    "test_original.shape"
   ]
  },
  {
   "cell_type": "code",
   "execution_count": 14,
   "metadata": {},
   "outputs": [],
   "source": [
    "train_original.to_csv(\"train.csv\", index= False)\n",
    "test_original.to_csv(\"test.csv\", index= False)"
   ]
  },
  {
   "cell_type": "code",
   "execution_count": 15,
   "metadata": {},
   "outputs": [],
   "source": [
    "train_copy = train_original.copy()\n",
    "test_copy = test_original.copy()"
   ]
  },
  {
   "cell_type": "markdown",
   "metadata": {},
   "source": [
    "#### Exploxe the data\n",
    "##### Data Profilting"
   ]
  },
  {
   "cell_type": "code",
   "execution_count": 16,
   "metadata": {},
   "outputs": [],
   "source": [
    "# profile_report = ProfileReport(train_copy)\n",
    "# profile_report_file_path = Path('./pandas_profile_file/credit_pred_profile.html')\n",
    "\n",
    "# try:\n",
    "#     profile_report_file_path.resolve(strict=True)\n",
    "# except FileNotFoundError:\n",
    "#     profile_report.to_file(\"./pandas_profile_file/credit_pred_profile.html\")"
   ]
  },
  {
   "cell_type": "markdown",
   "metadata": {},
   "source": [
    "### 2. Funtction used each features"
   ]
  },
  {
   "cell_type": "code",
   "execution_count": 17,
   "metadata": {},
   "outputs": [],
   "source": [
    "#Function trả về giá trị và tần số tương ứng của chúng\n",
    "def value_count_norm_call(df, feature):\n",
    "    frt_value_count = df[feature].value_counts()\n",
    "    frt_value_count_norm = df[feature].value_counts(normalize=True) * 100\n",
    "    frt_value_concat = pd.concat([frt_value_count, frt_value_count_norm], axis = 1)\n",
    "    frt_value_concat.columns = ['Count', 'Frequency (%)']\n",
    "    return frt_value_concat"
   ]
  },
  {
   "cell_type": "code",
   "execution_count": 18,
   "metadata": {},
   "outputs": [],
   "source": [
    "def get_info(df, feature):\n",
    "    if feature == 'Age':\n",
    "            print('Description:\\n{}'.format((np.abs(df[feature])/365).describe()))\n",
    "            print('*'*50)\n",
    "            print('Object type:{}'.format(df[feature].dtype))\n",
    "    elif feature== 'Employment length':\n",
    "           # chỉ chọn ra các người còn làm việc và bỏ qua những người đã nghỉ việc\n",
    "            employment_len_no_ret = train_copy['Employment length'][train_copy['Employment length'] < 0]\n",
    "            employment_len_no_ret_yrs = np.abs(employment_len_no_ret)/365\n",
    "            print('Description:\\n{}'.format((employment_len_no_ret_yrs).describe()))\n",
    "            print('*'*50)\n",
    "            print('Object type:{}'.format(employment_len_no_ret))\n",
    "    elif feature =='Account age':\n",
    "            # Thay đổi thời gian thành số dương\n",
    "            print('Description:\\n{}'.format((np.abs(df[feature])).describe()))\n",
    "            print('*'*50)\n",
    "            print('Object type:{}'.format(df[feature].dtype))\n",
    "    else:\n",
    "            print('Description:\\n{}'.format(df[feature].describe()))\n",
    "            print('*'*50)\n",
    "            print('Object type:\\n{}'.format(df[feature].dtype))\n",
    "            value_cnt = value_count_norm_call(df,feature)\n",
    "            print('Value count:\\n{}'.format(value_cnt))"
   ]
  },
  {
   "cell_type": "code",
   "execution_count": 19,
   "metadata": {},
   "outputs": [],
   "source": [
    "# Function tạo biểu đồ hình tròn\n",
    "\n",
    "def creat_pie_plot(df, feature):\n",
    "    if feature == 'Drewlling' or 'Education level':\n",
    "        ratio_size = value_count_norm_call(df, feature)\n",
    "        ratio_size_len = len(ratio_size.index)\n",
    "        ratio_list = []\n",
    "        for i in range(ratio_size_len):\n",
    "            ratio_list.append(ratio_size.iloc[i]['Frequency (%)'])\n",
    "        fig, ax = plt.subplots(figsize=(8,8))\n",
    "        # 1.2f %% hiển thị số thập phân trong biểu đồ hình tròn với 2 chữ số thập phân\n",
    "        plt.pie(ratio_list, startangle=90, wedgeprops={'edgecolor' :'black'})\n",
    "        plt.title('Pie chart of {}'.format(feature))\n",
    "        plt.legend(loc='best',labels = ratio_size.index)\n",
    "        plt.axis('equal')\n",
    "        return plt.show()\n",
    "    else :\n",
    "        ratio_size = value_count_norm_call(df, feature)\n",
    "        ratio_size_len = len(ratio_size.index)\n",
    "        ratio_list = []\n",
    "        for i in range(ratio_size_len):\n",
    "            ratio_list.append(ratio_size.iloc[i]['Frequency (%)'])\n",
    "        fig, ax = plt.subplots(figsize=(8,8))\n",
    "        # 1.2f %% hiển thị số thập phân trong biểu đồ hình tròn với 2 chữ số thập phân\n",
    "        plt.pie(ratio_list, labels = ratio_size.index, autopct='%1.2f%%', startangle=90, wedgeprops={'edgecolor' :'black'})\n",
    "        plt.title('Pie chart of {}'.format(feature))\n",
    "        plt.legend(loc='best')\n",
    "        plt.axis('equal')\n",
    "        return plt.show()"
   ]
  },
  {
   "cell_type": "code",
   "execution_count": 20,
   "metadata": {},
   "outputs": [],
   "source": [
    "#function để tạo ra các bar chart\n",
    "def creat_bar_chart(df, feature):\n",
    "    if feature == 'Marital status' or 'Dwelling' or 'Job title'or 'Employment status' or 'Education level':\n",
    "        fig, ax = plt.subplots(figsize=(6,10))\n",
    "        sns.barplot(x=value_count_norm_call(df,feature).index,y=value_count_norm_call(df,feature).values[:,0])\n",
    "        ax.set_xticklabels(labels=value_count_norm_call(df,feature).index,rotation=45,ha='right')\n",
    "        plt.xlabel('{}'.format(feature))\n",
    "        plt.ylabel('Count')\n",
    "        plt.title('{} count'.format(feature))\n",
    "        return plt.show()\n",
    "    else:\n",
    "        fig, ax = plt.subplots(figsize=(6,10))\n",
    "        sns.barplot(x=value_count_norm_call(df,feature).index,y=value_count_norm_call(df,feature).values[:,0])\n",
    "        plt.xlabel('{}'.format(feature))\n",
    "        plt.ylabel('Count')\n",
    "        plt.title('{} count'.format(feature))\n",
    "        return plt.show()"
   ]
  },
  {
   "cell_type": "code",
   "execution_count": 21,
   "metadata": {},
   "outputs": [],
   "source": [
    "#Function để tạo bar chart\n",
    "def creat_bar_plot(df, feature):\n",
    "    if feature == 'Marital status' or 'Dwelling' or 'Job title' or 'Employment status' or 'Education level':\n",
    "        fig, ax = plt.subplots(figsize =(6, 10))\n",
    "        sns.barplot(x = value_count_norm_call(df, feature).index, y = value_count_norm_call(df, feature).values[:, 0])\n",
    "        ax.set_xticklabels(labels = value_count_norm_call(df, feature).index, rotation=45, ha= 'right')\n",
    "        plt.xlabel('{}'.format(feature))\n",
    "        plt.ylabel('Count')\n",
    "        plt.title('{}count'.format(feature))\n",
    "        return plt.show()\n",
    "    else:\n",
    "        fig, ax = plt.subplots(figsize=(6,10))\n",
    "        sns.barplot(x=value_count_norm_call(df,feature).index,y=value_count_norm_call(df,feature).values[:,0])\n",
    "        plt.xlabel('{}'.format(feature))\n",
    "        plt.ylabel('Count')\n",
    "        plt.title('{} count'.format(feature))\n",
    "        return plt.show()"
   ]
  },
  {
   "cell_type": "code",
   "execution_count": 22,
   "metadata": {},
   "outputs": [],
   "source": [
    "#Function tạo box plot\n",
    "def creat_box_plot(df, feature):\n",
    "    if feature == 'Age':\n",
    "        fig, ax = plt.subplots(figsize=(2,8))\n",
    "        sns.boxplot(y = np.abs(df[feature]/365))\n",
    "        plt.title('{} distribution(Boxplot)'.format(feature))\n",
    "        return plt.show()\n",
    "    elif feature == 'Children count':\n",
    "        fig, ax = plt.subplots(figsize=(2,8))\n",
    "        sns.boxplot(y=df[feature])\n",
    "        plt.title('{} distribution(Boxplot)'.format(feature))\n",
    "        plt.yticks(np.arange(0,df[feature].max(),1))\n",
    "        return plt.show()\n",
    "    elif feature == 'Employment length':\n",
    "        fig, ax = plt.subplots(figsize=(2,8))\n",
    "        employment_len_no_ret = train_copy['Employment length'][train_copy['Employment length'] < 0]\n",
    "        employment_len_no_ret_yrs = np.abs(employment_len_no_ret)/365.25\n",
    "        sns.boxplot(y=employment_len_no_ret_yrs)\n",
    "        plt.title('{} distribution(Boxplot)'.format(feature))\n",
    "        plt.yticks(np.arange(0,employment_len_no_ret_yrs.max(),2))\n",
    "        return plt.show()\n",
    "    elif feature == 'Account age':\n",
    "        fig, ax = plt.subplots(figsize=(2,8))\n",
    "        sns.boxplot(y=np.abs(df[feature]))\n",
    "        plt.title('{} distribution(Boxplot)'.format(feature))\n",
    "        return plt.show()\n",
    "    else:\n",
    "        fig, ax = plt.subplots(figsize=(2,8))\n",
    "        sns.boxplot(y=df[feature])\n",
    "        plt.title('{} distribution(Boxplot)'.format(feature))\n",
    "        return plt.show()\n",
    "        "
   ]
  },
  {
   "cell_type": "code",
   "execution_count": 23,
   "metadata": {},
   "outputs": [],
   "source": [
    "def creat_hist_plot(df, feature, thebins=50):\n",
    "    if feature == 'Age':\n",
    "        fig, ax = plt.subplots(figsize= (18,10))\n",
    "        sns.histplot(np.abs(df[feature]/365.25),bins= thebins)\n",
    "        plt.title(\"{}distribution\".format(feature))\n",
    "        return plt.show()\n",
    "    elif feature == 'Income':\n",
    "        fig, ax = plt.subplots(figsize=(18, 10))\n",
    "        sns.histplot(df[feature], bins= thebins)\n",
    "        ax.get_xaxis().set_major_formatter(matplotlib.ticker.FuncFormatter(lambda x, p: format(int(x),\",\" )))\n",
    "        plt.title('{} distribution'.format(feature))\n",
    "        return plt.show()\n",
    "    elif feature == 'Account age':\n",
    "        fig, ax = plt.subplots(18,10)\n",
    "        sns.histplot(np.abs(df[feature], bins= thebins))\n",
    "        plt.title(\"{}distribution\".format(feature))\n",
    "        return plt.show()\n",
    "    else:\n",
    "        fig, ax = plt.subplots(18,10)\n",
    "        sns.histplot(df[feature], bins= thebins)\n",
    "        plt.title(\"{}distribution\".format(feature))\n",
    "        return plt.show()"
   ]
  },
  {
   "cell_type": "code",
   "execution_count": 24,
   "metadata": {},
   "outputs": [],
   "source": [
    "#Funcition tính độ rủi ro\n",
    "def low_high_risk_bar_plot(df, feature):\n",
    "    is_high_risk_grp = df.groupby(feature)['Is high risk'].sum()\n",
    "    is_high_risk_srt = is_high_risk_grp.sort_values(ascending= True)\n",
    "    print(is_high_risk_srt)\n",
    "    fig, ax = plt.subplots(figsize=(6, 10))\n",
    "    sns.barplot(x= is_high_risk_srt.index, y = is_high_risk_srt.values)\n",
    "    ax.set_xticklabels(labels =  is_high_risk_srt.index)\n",
    "    plt.ylabel('Count')\n",
    "    plt.title(\"High risk appliacants count by high risk{}\".format(feature))\n",
    "    return plt.show()"
   ]
  },
  {
   "cell_type": "markdown",
   "metadata": {},
   "source": [
    "# Phân tích đơn biến"
   ]
  },
  {
   "cell_type": "markdown",
   "metadata": {},
   "source": [
    "## Gender"
   ]
  },
  {
   "cell_type": "code",
   "execution_count": 25,
   "metadata": {},
   "outputs": [
    {
     "name": "stdout",
     "output_type": "stream",
     "text": [
      "Description:\n",
      "count     29165\n",
      "unique        2\n",
      "top           F\n",
      "freq      19549\n",
      "Name: Gender, dtype: object\n",
      "**************************************************\n",
      "Object type:\n",
      "object\n",
      "Value count:\n",
      "   Count  Frequency (%)\n",
      "F  19549      67.028973\n",
      "M   9616      32.971027\n"
     ]
    }
   ],
   "source": [
    "get_info(train_copy, \"Gender\")"
   ]
  },
  {
   "cell_type": "code",
   "execution_count": 26,
   "metadata": {},
   "outputs": [
    {
     "name": "stderr",
     "output_type": "stream",
     "text": [
      "C:\\Users\\Minh\\AppData\\Local\\Temp\\ipykernel_16916\\3069238624.py:10: UserWarning: Matplotlib is currently using agg, which is a non-GUI backend, so cannot show the figure.\n",
      "  return plt.show()\n"
     ]
    }
   ],
   "source": [
    "creat_bar_chart(train_copy, \"Gender\")"
   ]
  },
  {
   "cell_type": "markdown",
   "metadata": {},
   "source": [
    "<li>Số nhân viên nam chiếm đa số với 19000 nhân viên</li>\n",
    "<li> Số nhân viên nữ chiếm thiểu số với 9600 nhân viên </li>"
   ]
  },
  {
   "cell_type": "code",
   "execution_count": 27,
   "metadata": {},
   "outputs": [
    {
     "name": "stderr",
     "output_type": "stream",
     "text": [
      "C:\\Users\\Minh\\AppData\\Local\\Temp\\ipykernel_16916\\1976869441.py:16: UserWarning: Matplotlib is currently using agg, which is a non-GUI backend, so cannot show the figure.\n",
      "  return plt.show()\n"
     ]
    }
   ],
   "source": [
    "creat_pie_plot(train_copy, 'Gender')"
   ]
  },
  {
   "cell_type": "markdown",
   "metadata": {},
   "source": [
    "<li>Nhân viên nam chiếm đa số với 63% </li>\n",
    "<li>Nhân viên nữ chiếm thiểu số với 37% </li>"
   ]
  },
  {
   "cell_type": "markdown",
   "metadata": {},
   "source": [
    "## Age"
   ]
  },
  {
   "cell_type": "code",
   "execution_count": 28,
   "metadata": {},
   "outputs": [
    {
     "name": "stdout",
     "output_type": "stream",
     "text": [
      "Description:\n",
      "count    29165.000000\n",
      "mean        43.779390\n",
      "std         11.515062\n",
      "min         21.109589\n",
      "25%         34.178082\n",
      "50%         42.643836\n",
      "75%         53.271233\n",
      "max         68.909589\n",
      "Name: Age, dtype: float64\n",
      "**************************************************\n",
      "Object type:int64\n"
     ]
    }
   ],
   "source": [
    "get_info(train_copy, 'Age')"
   ]
  },
  {
   "cell_type": "code",
   "execution_count": 29,
   "metadata": {},
   "outputs": [
    {
     "name": "stderr",
     "output_type": "stream",
     "text": [
      "C:\\Users\\Minh\\AppData\\Local\\Temp\\ipykernel_16916\\1430757122.py:7: UserWarning: Matplotlib is currently using agg, which is a non-GUI backend, so cannot show the figure.\n",
      "  return plt.show()\n"
     ]
    }
   ],
   "source": [
    "creat_box_plot(train_copy, 'Age')"
   ]
  },
  {
   "cell_type": "code",
   "execution_count": 30,
   "metadata": {},
   "outputs": [
    {
     "name": "stderr",
     "output_type": "stream",
     "text": [
      "C:\\Users\\Minh\\AppData\\Local\\Temp\\ipykernel_16916\\3869348336.py:6: UserWarning: Matplotlib is currently using agg, which is a non-GUI backend, so cannot show the figure.\n",
      "  return plt.show()\n"
     ]
    }
   ],
   "source": [
    "creat_hist_plot(train_copy, 'Age')"
   ]
  },
  {
   "cell_type": "markdown",
   "metadata": {},
   "source": [
    "<li>Độ tuổi phổ biến của công ty là khoảng 28-42 tuổi</li>"
   ]
  },
  {
   "cell_type": "markdown",
   "metadata": {},
   "source": [
    "#### Marital status"
   ]
  },
  {
   "cell_type": "code",
   "execution_count": 31,
   "metadata": {},
   "outputs": [
    {
     "name": "stdout",
     "output_type": "stream",
     "text": [
      "Description:\n",
      "count       29165\n",
      "unique          5\n",
      "top       Married\n",
      "freq        20044\n",
      "Name: Marital status, dtype: object\n",
      "**************************************************\n",
      "Object type:\n",
      "object\n",
      "Value count:\n",
      "                      Count  Frequency (%)\n",
      "Married               20044      68.726213\n",
      "Single / not married   3864      13.248757\n",
      "Civil marriage         2312       7.927310\n",
      "Separated              1712       5.870050\n",
      "Widow                  1233       4.227670\n"
     ]
    }
   ],
   "source": [
    "get_info(train_copy, 'Marital status')"
   ]
  },
  {
   "cell_type": "code",
   "execution_count": 32,
   "metadata": {},
   "outputs": [
    {
     "name": "stderr",
     "output_type": "stream",
     "text": [
      "C:\\Users\\Minh\\AppData\\Local\\Temp\\ipykernel_16916\\1976869441.py:16: UserWarning: Matplotlib is currently using agg, which is a non-GUI backend, so cannot show the figure.\n",
      "  return plt.show()\n"
     ]
    }
   ],
   "source": [
    "creat_pie_plot(train_copy, 'Marital status')"
   ]
  },
  {
   "cell_type": "markdown",
   "metadata": {},
   "source": [
    "<li>Tình trạng hôn nhân chủ yếu công ty là Đã kết hôn chiếm tỉ trọng 68%</li>\n",
    "<li>Tình trạng hôn nhân phổ biến thứ hai của công ty là độc thân/ chưa kết hôn chiếm tỉ trọng 13% </li>"
   ]
  },
  {
   "cell_type": "code",
   "execution_count": 33,
   "metadata": {},
   "outputs": [
    {
     "name": "stderr",
     "output_type": "stream",
     "text": [
      "C:\\Users\\Minh\\AppData\\Local\\Temp\\ipykernel_16916\\3069238624.py:10: UserWarning: Matplotlib is currently using agg, which is a non-GUI backend, so cannot show the figure.\n",
      "  return plt.show()\n"
     ]
    }
   ],
   "source": [
    "creat_bar_chart(train_copy, 'Marital status')"
   ]
  },
  {
   "cell_type": "markdown",
   "metadata": {},
   "source": [
    "### Family member count"
   ]
  },
  {
   "cell_type": "code",
   "execution_count": 34,
   "metadata": {},
   "outputs": [
    {
     "name": "stdout",
     "output_type": "stream",
     "text": [
      "Description:\n",
      "count    29165.000000\n",
      "mean         2.197531\n",
      "std          0.912189\n",
      "min          1.000000\n",
      "25%          2.000000\n",
      "50%          2.000000\n",
      "75%          3.000000\n",
      "max         20.000000\n",
      "Name: Family member count, dtype: float64\n",
      "**************************************************\n",
      "Object type:\n",
      "float64\n",
      "Value count:\n",
      "      Count  Frequency (%)\n",
      "2.0   15552      53.324190\n",
      "1.0    5613      19.245671\n",
      "3.0    5121      17.558718\n",
      "4.0    2503       8.582205\n",
      "5.0     309       1.059489\n",
      "6.0      48       0.164581\n",
      "7.0      14       0.048003\n",
      "9.0       2       0.006858\n",
      "15.0      2       0.006858\n",
      "20.0      1       0.003429\n"
     ]
    }
   ],
   "source": [
    "get_info(train_copy, 'Family member count')"
   ]
  },
  {
   "cell_type": "code",
   "execution_count": 35,
   "metadata": {},
   "outputs": [],
   "source": [
    "#creat_box_plot(train_copy, 'Marital status')"
   ]
  },
  {
   "cell_type": "code",
   "execution_count": 36,
   "metadata": {},
   "outputs": [
    {
     "name": "stdout",
     "output_type": "stream",
     "text": [
      "Marital status\n",
      "Separated                24\n",
      "Civil marriage           34\n",
      "Widow                    34\n",
      "Single / not married     87\n",
      "Married                 320\n",
      "Name: Is high risk, dtype: object\n"
     ]
    },
    {
     "name": "stderr",
     "output_type": "stream",
     "text": [
      "C:\\Users\\Minh\\AppData\\Local\\Temp\\ipykernel_16916\\1682682024.py:11: UserWarning: Matplotlib is currently using agg, which is a non-GUI backend, so cannot show the figure.\n",
      "  return plt.show()\n"
     ]
    }
   ],
   "source": [
    "low_high_risk_bar_plot(train_copy, 'Marital status')"
   ]
  },
  {
   "cell_type": "code",
   "execution_count": 37,
   "metadata": {},
   "outputs": [
    {
     "name": "stderr",
     "output_type": "stream",
     "text": [
      "C:\\Users\\Minh\\AppData\\Local\\Temp\\ipykernel_16916\\3560174012.py:10: UserWarning: Matplotlib is currently using agg, which is a non-GUI backend, so cannot show the figure.\n",
      "  return plt.show()\n"
     ]
    }
   ],
   "source": [
    "creat_bar_plot(train_copy, 'Marital status')"
   ]
  },
  {
   "cell_type": "markdown",
   "metadata": {},
   "source": [
    "### Childern count"
   ]
  },
  {
   "cell_type": "code",
   "execution_count": 38,
   "metadata": {},
   "outputs": [
    {
     "name": "stdout",
     "output_type": "stream",
     "text": [
      "Description:\n",
      "count    29165.000000\n",
      "mean         0.430790\n",
      "std          0.741882\n",
      "min          0.000000\n",
      "25%          0.000000\n",
      "50%          0.000000\n",
      "75%          1.000000\n",
      "max         19.000000\n",
      "Name: Children count, dtype: float64\n",
      "**************************************************\n",
      "Object type:\n",
      "int64\n",
      "Value count:\n",
      "    Count  Frequency (%)\n",
      "0   20143      69.065661\n",
      "1    6003      20.582890\n",
      "2    2624       8.997086\n",
      "3     323       1.107492\n",
      "4      52       0.178296\n",
      "5      15       0.051432\n",
      "7       2       0.006858\n",
      "14      2       0.006858\n",
      "19      1       0.003429\n"
     ]
    }
   ],
   "source": [
    "get_info(train_copy, 'Children count')"
   ]
  },
  {
   "cell_type": "code",
   "execution_count": 39,
   "metadata": {},
   "outputs": [
    {
     "name": "stderr",
     "output_type": "stream",
     "text": [
      "C:\\Users\\Minh\\AppData\\Local\\Temp\\ipykernel_16916\\1430757122.py:13: UserWarning: Matplotlib is currently using agg, which is a non-GUI backend, so cannot show the figure.\n",
      "  return plt.show()\n"
     ]
    }
   ],
   "source": [
    "creat_box_plot(train_copy, 'Children count')"
   ]
  },
  {
   "cell_type": "code",
   "execution_count": 40,
   "metadata": {},
   "outputs": [
    {
     "name": "stderr",
     "output_type": "stream",
     "text": [
      "C:\\Users\\Minh\\AppData\\Local\\Temp\\ipykernel_16916\\3560174012.py:10: UserWarning: Matplotlib is currently using agg, which is a non-GUI backend, so cannot show the figure.\n",
      "  return plt.show()\n"
     ]
    }
   ],
   "source": [
    "creat_bar_plot(train_copy, 'Children count')"
   ]
  },
  {
   "cell_type": "markdown",
   "metadata": {},
   "source": [
    "### Drewlling type"
   ]
  },
  {
   "cell_type": "code",
   "execution_count": 41,
   "metadata": {},
   "outputs": [
    {
     "name": "stdout",
     "output_type": "stream",
     "text": [
      "Description:\n",
      "count                 29165\n",
      "unique                    6\n",
      "top       House / apartment\n",
      "freq                  26059\n",
      "Name: Dwelling, dtype: object\n",
      "**************************************************\n",
      "Object type:\n",
      "object\n",
      "Value count:\n",
      "                     Count  Frequency (%)\n",
      "House / apartment    26059      89.350249\n",
      "With parents          1406       4.820847\n",
      "Municipal apartment    912       3.127036\n",
      "Rented apartment       453       1.553232\n",
      "Office apartment       208       0.713184\n",
      "Co-op apartment        127       0.435453\n"
     ]
    }
   ],
   "source": [
    "get_info(train_copy, \"Dwelling\")"
   ]
  },
  {
   "cell_type": "code",
   "execution_count": 42,
   "metadata": {},
   "outputs": [
    {
     "name": "stderr",
     "output_type": "stream",
     "text": [
      "C:\\Users\\Minh\\AppData\\Local\\Temp\\ipykernel_16916\\1976869441.py:16: UserWarning: Matplotlib is currently using agg, which is a non-GUI backend, so cannot show the figure.\n",
      "  return plt.show()\n"
     ]
    }
   ],
   "source": [
    "creat_pie_plot(train_copy, \"Dwelling\")"
   ]
  },
  {
   "cell_type": "code",
   "execution_count": 43,
   "metadata": {},
   "outputs": [
    {
     "name": "stderr",
     "output_type": "stream",
     "text": [
      "C:\\Users\\Minh\\AppData\\Local\\Temp\\ipykernel_16916\\3069238624.py:10: UserWarning: Matplotlib is currently using agg, which is a non-GUI backend, so cannot show the figure.\n",
      "  return plt.show()\n"
     ]
    }
   ],
   "source": [
    "creat_bar_chart(train_copy, \"Dwelling\")"
   ]
  },
  {
   "cell_type": "markdown",
   "metadata": {},
   "source": [
    "### Income"
   ]
  },
  {
   "cell_type": "code",
   "execution_count": 44,
   "metadata": {},
   "outputs": [
    {
     "name": "stdout",
     "output_type": "stream",
     "text": [
      "Description:\n",
      "count      $29,165.00\n",
      "mean      $186,890.39\n",
      "std       $101,409.64\n",
      "min        $27,000.00\n",
      "25%       $121,500.00\n",
      "50%       $157,500.00\n",
      "75%       $225,000.00\n",
      "max     $1,575,000.00\n",
      "Name: Income, dtype: float64\n",
      "**************************************************\n",
      "Object type:\n",
      "float64\n",
      "Value count:\n",
      "             Count  Frequency (%)\n",
      "$135,000.00   3468         $11.89\n",
      "$180,000.00   2487          $8.53\n",
      "$157,500.00   2469          $8.47\n",
      "$225,000.00   2373          $8.14\n",
      "$112,500.00   2359          $8.09\n",
      "...            ...            ...\n",
      "$164,250.00      1          $0.00\n",
      "$42,300.00       1          $0.00\n",
      "$432,000.00      1          $0.00\n",
      "$145,350.00      1          $0.00\n",
      "$82,350.00       1          $0.00\n",
      "\n",
      "[259 rows x 2 columns]\n"
     ]
    }
   ],
   "source": [
    "pd.options.display.float_format = '${:,.2f}'.format\n",
    "get_info(train_copy, \"Income\")"
   ]
  },
  {
   "cell_type": "code",
   "execution_count": 45,
   "metadata": {},
   "outputs": [
    {
     "name": "stderr",
     "output_type": "stream",
     "text": [
      "C:\\Users\\Minh\\AppData\\Local\\Temp\\ipykernel_16916\\1430757122.py:31: UserWarning: Matplotlib is currently using agg, which is a non-GUI backend, so cannot show the figure.\n",
      "  return plt.show()\n"
     ]
    }
   ],
   "source": [
    "creat_box_plot(train_copy, \"Income\")"
   ]
  },
  {
   "cell_type": "code",
   "execution_count": 46,
   "metadata": {},
   "outputs": [
    {
     "name": "stderr",
     "output_type": "stream",
     "text": [
      "C:\\Users\\Minh\\AppData\\Local\\Temp\\ipykernel_16916\\3869348336.py:12: UserWarning: Matplotlib is currently using agg, which is a non-GUI backend, so cannot show the figure.\n",
      "  return plt.show()\n"
     ]
    }
   ],
   "source": [
    "creat_hist_plot(train_copy, \"Income\")"
   ]
  },
  {
   "cell_type": "code",
   "execution_count": null,
   "metadata": {},
   "outputs": [],
   "source": []
  },
  {
   "cell_type": "markdown",
   "metadata": {},
   "source": [
    "### Job title"
   ]
  },
  {
   "cell_type": "code",
   "execution_count": 47,
   "metadata": {},
   "outputs": [
    {
     "name": "stdout",
     "output_type": "stream",
     "text": [
      "Description:\n",
      "count        20138\n",
      "unique          18\n",
      "top       Laborers\n",
      "freq          5004\n",
      "Name: Job title, dtype: object\n",
      "**************************************************\n",
      "Object type:\n",
      "object\n",
      "Value count:\n",
      "                       Count  Frequency (%)\n",
      "Laborers                5004         $24.85\n",
      "Core staff              2866         $14.23\n",
      "Sales staff             2773         $13.77\n",
      "Managers                2422         $12.03\n",
      "Drivers                 1722          $8.55\n",
      "High skill tech staff   1133          $5.63\n",
      "Accountants              998          $4.96\n",
      "Medicine staff           956          $4.75\n",
      "Cooking staff            521          $2.59\n",
      "Security staff           464          $2.30\n",
      "Cleaning staff           425          $2.11\n",
      "Private service staff    287          $1.43\n",
      "Low-skill Laborers       138          $0.69\n",
      "Waiters/barmen staff     127          $0.63\n",
      "Secretaries              122          $0.61\n",
      "HR staff                  72          $0.36\n",
      "Realty agents             60          $0.30\n",
      "IT staff                  48          $0.24\n"
     ]
    }
   ],
   "source": [
    "get_info(train_copy, \"Job title\")"
   ]
  },
  {
   "cell_type": "code",
   "execution_count": 48,
   "metadata": {},
   "outputs": [
    {
     "data": {
      "text/plain": [
       "9027"
      ]
     },
     "execution_count": 48,
     "metadata": {},
     "output_type": "execute_result"
    }
   ],
   "source": [
    "job_titile_nn_count = train_copy['Job title'].isna().sum()\n",
    "job_titile_nn_count"
   ]
  },
  {
   "cell_type": "code",
   "execution_count": 49,
   "metadata": {},
   "outputs": [
    {
     "data": {
      "text/plain": [
       "29165"
      ]
     },
     "execution_count": 49,
     "metadata": {},
     "output_type": "execute_result"
    }
   ],
   "source": [
    "rows_total_count = train_copy.shape[0]\n",
    "rows_total_count"
   ]
  },
  {
   "cell_type": "code",
   "execution_count": 50,
   "metadata": {},
   "outputs": [
    {
     "name": "stdout",
     "output_type": "stream",
     "text": [
      "The percentage of missing rows is 30.95 %\n"
     ]
    }
   ],
   "source": [
    "print('The percentage of missing rows is {:.2f} %'.format(job_titile_nn_count * 100 / rows_total_count))"
   ]
  },
  {
   "cell_type": "code",
   "execution_count": 51,
   "metadata": {},
   "outputs": [
    {
     "name": "stderr",
     "output_type": "stream",
     "text": [
      "C:\\Users\\Minh\\AppData\\Local\\Temp\\ipykernel_16916\\3560174012.py:10: UserWarning: Matplotlib is currently using agg, which is a non-GUI backend, so cannot show the figure.\n",
      "  return plt.show()\n"
     ]
    }
   ],
   "source": [
    "creat_bar_plot(train_copy, 'Job title')"
   ]
  },
  {
   "cell_type": "markdown",
   "metadata": {},
   "source": [
    "### Employment status"
   ]
  },
  {
   "cell_type": "code",
   "execution_count": 52,
   "metadata": {},
   "outputs": [
    {
     "name": "stdout",
     "output_type": "stream",
     "text": [
      "Description:\n",
      "count       29165\n",
      "unique          5\n",
      "top       Working\n",
      "freq        15056\n",
      "Name: Employment status, dtype: object\n",
      "**************************************************\n",
      "Object type:\n",
      "object\n",
      "Value count:\n",
      "                      Count  Frequency (%)\n",
      "Working               15056         $51.62\n",
      "Commercial associate   6801         $23.32\n",
      "Pensioner              4920         $16.87\n",
      "State servant          2381          $8.16\n",
      "Student                   7          $0.02\n"
     ]
    }
   ],
   "source": [
    "get_info(train_copy, 'Employment status')"
   ]
  },
  {
   "cell_type": "code",
   "execution_count": 53,
   "metadata": {},
   "outputs": [
    {
     "name": "stderr",
     "output_type": "stream",
     "text": [
      "C:\\Users\\Minh\\AppData\\Local\\Temp\\ipykernel_16916\\3069238624.py:10: UserWarning: Matplotlib is currently using agg, which is a non-GUI backend, so cannot show the figure.\n",
      "  return plt.show()\n"
     ]
    }
   ],
   "source": [
    "creat_bar_chart(train_copy, 'Employment status')"
   ]
  },
  {
   "cell_type": "code",
   "execution_count": 54,
   "metadata": {},
   "outputs": [
    {
     "name": "stderr",
     "output_type": "stream",
     "text": [
      "C:\\Users\\Minh\\AppData\\Local\\Temp\\ipykernel_16916\\1976869441.py:16: UserWarning: Matplotlib is currently using agg, which is a non-GUI backend, so cannot show the figure.\n",
      "  return plt.show()\n"
     ]
    }
   ],
   "source": [
    "creat_pie_plot(train_copy, 'Employment status')"
   ]
  },
  {
   "cell_type": "markdown",
   "metadata": {},
   "source": [
    "### Education level"
   ]
  },
  {
   "cell_type": "code",
   "execution_count": 55,
   "metadata": {},
   "outputs": [
    {
     "name": "stdout",
     "output_type": "stream",
     "text": [
      "Description:\n",
      "count                             29165\n",
      "unique                                5\n",
      "top       Secondary / secondary special\n",
      "freq                              19803\n",
      "Name: Education level, dtype: object\n",
      "**************************************************\n",
      "Object type:\n",
      "object\n",
      "Value count:\n",
      "                               Count  Frequency (%)\n",
      "Secondary / secondary special  19803         $67.90\n",
      "Higher education                7910         $27.12\n",
      "Incomplete higher               1129          $3.87\n",
      "Lower secondary                  298          $1.02\n",
      "Academic degree                   25          $0.09\n"
     ]
    }
   ],
   "source": [
    "get_info(train_copy, 'Education level')"
   ]
  },
  {
   "cell_type": "code",
   "execution_count": 56,
   "metadata": {},
   "outputs": [
    {
     "name": "stderr",
     "output_type": "stream",
     "text": [
      "C:\\Users\\Minh\\AppData\\Local\\Temp\\ipykernel_16916\\3069238624.py:10: UserWarning: Matplotlib is currently using agg, which is a non-GUI backend, so cannot show the figure.\n",
      "  return plt.show()\n"
     ]
    }
   ],
   "source": [
    "creat_bar_chart(train_copy, 'Education level')"
   ]
  },
  {
   "cell_type": "code",
   "execution_count": 57,
   "metadata": {},
   "outputs": [
    {
     "name": "stderr",
     "output_type": "stream",
     "text": [
      "C:\\Users\\Minh\\AppData\\Local\\Temp\\ipykernel_16916\\1976869441.py:10: RuntimeWarning: More than 20 figures have been opened. Figures created through the pyplot interface (`matplotlib.pyplot.figure`) are retained until explicitly closed and may consume too much memory. (To control this warning, see the rcParam `figure.max_open_warning`).\n",
      "  fig, ax = plt.subplots(figsize=(8,8))\n",
      "C:\\Users\\Minh\\AppData\\Local\\Temp\\ipykernel_16916\\1976869441.py:16: UserWarning: Matplotlib is currently using agg, which is a non-GUI backend, so cannot show the figure.\n",
      "  return plt.show()\n"
     ]
    }
   ],
   "source": [
    "creat_pie_plot(train_copy, 'Education level')"
   ]
  },
  {
   "cell_type": "markdown",
   "metadata": {},
   "source": [
    "### Employment length"
   ]
  },
  {
   "cell_type": "code",
   "execution_count": 58,
   "metadata": {},
   "outputs": [
    {
     "name": "stdout",
     "output_type": "stream",
     "text": [
      "Description:\n",
      "count   $24,257.00\n",
      "mean         $7.27\n",
      "std          $6.47\n",
      "min          $0.05\n",
      "25%          $2.68\n",
      "50%          $5.45\n",
      "75%          $9.61\n",
      "max         $43.05\n",
      "Name: Employment length, dtype: float64\n",
      "**************************************************\n",
      "Object type:0       -3111\n",
      "1       -1651\n",
      "2       -5657\n",
      "3       -2046\n",
      "4        -515\n",
      "         ... \n",
      "29158   -2482\n",
      "29159   -1447\n",
      "29161   -8256\n",
      "29162   -3291\n",
      "29164   -2010\n",
      "Name: Employment length, Length: 24257, dtype: int64\n"
     ]
    }
   ],
   "source": [
    "get_info(train_copy, 'Employment length')"
   ]
  },
  {
   "cell_type": "code",
   "execution_count": 59,
   "metadata": {},
   "outputs": [
    {
     "name": "stderr",
     "output_type": "stream",
     "text": [
      "C:\\Users\\Minh\\AppData\\Local\\Temp\\ipykernel_16916\\1430757122.py:21: UserWarning: Matplotlib is currently using agg, which is a non-GUI backend, so cannot show the figure.\n",
      "  return plt.show()\n"
     ]
    }
   ],
   "source": [
    "creat_box_plot(train_copy, 'Employment length')"
   ]
  },
  {
   "cell_type": "markdown",
   "metadata": {},
   "source": [
    "### Has a car"
   ]
  },
  {
   "cell_type": "code",
   "execution_count": 60,
   "metadata": {},
   "outputs": [
    {
     "name": "stdout",
     "output_type": "stream",
     "text": [
      "Description:\n",
      "count     29165\n",
      "unique        2\n",
      "top           N\n",
      "freq      18128\n",
      "Name: Has a car, dtype: object\n",
      "**************************************************\n",
      "Object type:\n",
      "object\n",
      "Value count:\n",
      "   Count  Frequency (%)\n",
      "N  18128         $62.16\n",
      "Y  11037         $37.84\n"
     ]
    }
   ],
   "source": [
    "get_info(train_copy, 'Has a car')"
   ]
  },
  {
   "cell_type": "code",
   "execution_count": 61,
   "metadata": {},
   "outputs": [
    {
     "name": "stderr",
     "output_type": "stream",
     "text": [
      "C:\\Users\\Minh\\AppData\\Local\\Temp\\ipykernel_16916\\1976869441.py:16: UserWarning: Matplotlib is currently using agg, which is a non-GUI backend, so cannot show the figure.\n",
      "  return plt.show()\n"
     ]
    }
   ],
   "source": [
    "creat_pie_plot(train_copy,'Has a car')"
   ]
  },
  {
   "cell_type": "code",
   "execution_count": 62,
   "metadata": {},
   "outputs": [
    {
     "name": "stderr",
     "output_type": "stream",
     "text": [
      "C:\\Users\\Minh\\AppData\\Local\\Temp\\ipykernel_16916\\3069238624.py:10: UserWarning: Matplotlib is currently using agg, which is a non-GUI backend, so cannot show the figure.\n",
      "  return plt.show()\n"
     ]
    }
   ],
   "source": [
    "creat_bar_chart(train_copy, 'Has a car')"
   ]
  },
  {
   "cell_type": "markdown",
   "metadata": {},
   "source": [
    "### Has a property"
   ]
  },
  {
   "cell_type": "code",
   "execution_count": 63,
   "metadata": {},
   "outputs": [
    {
     "name": "stdout",
     "output_type": "stream",
     "text": [
      "Description:\n",
      "count     29165\n",
      "unique        2\n",
      "top           Y\n",
      "freq      19557\n",
      "Name: Has a property, dtype: object\n",
      "**************************************************\n",
      "Object type:\n",
      "object\n",
      "Value count:\n",
      "   Count  Frequency (%)\n",
      "Y  19557         $67.06\n",
      "N   9608         $32.94\n"
     ]
    }
   ],
   "source": [
    "get_info(train_copy, 'Has a property')"
   ]
  },
  {
   "cell_type": "code",
   "execution_count": 64,
   "metadata": {},
   "outputs": [
    {
     "name": "stderr",
     "output_type": "stream",
     "text": [
      "C:\\Users\\Minh\\AppData\\Local\\Temp\\ipykernel_16916\\3069238624.py:10: UserWarning: Matplotlib is currently using agg, which is a non-GUI backend, so cannot show the figure.\n",
      "  return plt.show()\n"
     ]
    }
   ],
   "source": [
    "creat_bar_chart(train_copy, 'Has a property')"
   ]
  },
  {
   "cell_type": "code",
   "execution_count": 65,
   "metadata": {},
   "outputs": [
    {
     "name": "stderr",
     "output_type": "stream",
     "text": [
      "C:\\Users\\Minh\\AppData\\Local\\Temp\\ipykernel_16916\\1976869441.py:16: UserWarning: Matplotlib is currently using agg, which is a non-GUI backend, so cannot show the figure.\n",
      "  return plt.show()\n"
     ]
    }
   ],
   "source": [
    "creat_pie_plot(train_copy, 'Has a property')"
   ]
  },
  {
   "cell_type": "markdown",
   "metadata": {},
   "source": [
    "### Has a work phone"
   ]
  },
  {
   "cell_type": "code",
   "execution_count": 66,
   "metadata": {},
   "outputs": [
    {
     "name": "stdout",
     "output_type": "stream",
     "text": [
      "Description:\n",
      "count   $29,165.00\n",
      "mean         $0.29\n",
      "std          $0.46\n",
      "min          $0.00\n",
      "25%          $0.00\n",
      "50%          $0.00\n",
      "75%          $1.00\n",
      "max          $1.00\n",
      "Name: Has a phone, dtype: float64\n",
      "**************************************************\n",
      "Object type:\n",
      "int64\n",
      "Value count:\n",
      "   Count  Frequency (%)\n",
      "0  20562         $70.50\n",
      "1   8603         $29.50\n"
     ]
    }
   ],
   "source": [
    "get_info(train_copy, 'Has a phone')"
   ]
  },
  {
   "cell_type": "code",
   "execution_count": 67,
   "metadata": {},
   "outputs": [
    {
     "name": "stderr",
     "output_type": "stream",
     "text": [
      "C:\\Users\\Minh\\AppData\\Local\\Temp\\ipykernel_16916\\3069238624.py:10: UserWarning: Matplotlib is currently using agg, which is a non-GUI backend, so cannot show the figure.\n",
      "  return plt.show()\n"
     ]
    }
   ],
   "source": [
    "creat_bar_chart(train_copy, 'Has a phone')"
   ]
  },
  {
   "cell_type": "code",
   "execution_count": 68,
   "metadata": {},
   "outputs": [
    {
     "name": "stderr",
     "output_type": "stream",
     "text": [
      "C:\\Users\\Minh\\AppData\\Local\\Temp\\ipykernel_16916\\1976869441.py:16: UserWarning: Matplotlib is currently using agg, which is a non-GUI backend, so cannot show the figure.\n",
      "  return plt.show()\n"
     ]
    }
   ],
   "source": [
    "creat_pie_plot(train_copy, 'Has a phone')"
   ]
  },
  {
   "cell_type": "markdown",
   "metadata": {},
   "source": [
    "#### Has an email"
   ]
  },
  {
   "cell_type": "code",
   "execution_count": 69,
   "metadata": {},
   "outputs": [
    {
     "name": "stdout",
     "output_type": "stream",
     "text": [
      "Description:\n",
      "count   $29,165.00\n",
      "mean         $0.09\n",
      "std          $0.29\n",
      "min          $0.00\n",
      "25%          $0.00\n",
      "50%          $0.00\n",
      "75%          $0.00\n",
      "max          $1.00\n",
      "Name: Has an email, dtype: float64\n",
      "**************************************************\n",
      "Object type:\n",
      "int64\n",
      "Value count:\n",
      "   Count  Frequency (%)\n",
      "0  26532         $90.97\n",
      "1   2633          $9.03\n"
     ]
    }
   ],
   "source": [
    "get_info(train_copy, 'Has an email')"
   ]
  },
  {
   "cell_type": "code",
   "execution_count": 70,
   "metadata": {},
   "outputs": [
    {
     "name": "stderr",
     "output_type": "stream",
     "text": [
      "C:\\Users\\Minh\\AppData\\Local\\Temp\\ipykernel_16916\\3069238624.py:10: UserWarning: Matplotlib is currently using agg, which is a non-GUI backend, so cannot show the figure.\n",
      "  return plt.show()\n"
     ]
    }
   ],
   "source": [
    "creat_bar_chart(train_copy, 'Has an email')"
   ]
  },
  {
   "cell_type": "code",
   "execution_count": 71,
   "metadata": {},
   "outputs": [
    {
     "name": "stderr",
     "output_type": "stream",
     "text": [
      "C:\\Users\\Minh\\AppData\\Local\\Temp\\ipykernel_16916\\1976869441.py:16: UserWarning: Matplotlib is currently using agg, which is a non-GUI backend, so cannot show the figure.\n",
      "  return plt.show()\n"
     ]
    }
   ],
   "source": [
    "creat_pie_plot(train_copy, 'Has an email')"
   ]
  },
  {
   "cell_type": "markdown",
   "metadata": {},
   "source": [
    "### Is high risk"
   ]
  },
  {
   "cell_type": "code",
   "execution_count": 72,
   "metadata": {},
   "outputs": [
    {
     "name": "stdout",
     "output_type": "stream",
     "text": [
      "Description:\n",
      "count     29165\n",
      "unique        2\n",
      "top           0\n",
      "freq      28666\n",
      "Name: Is high risk, dtype: int64\n",
      "**************************************************\n",
      "Object type:\n",
      "object\n",
      "Value count:\n",
      "   Count  Frequency (%)\n",
      "0  28666         $98.29\n",
      "1    499          $1.71\n"
     ]
    }
   ],
   "source": [
    "get_info(train_copy, 'Is high risk')"
   ]
  },
  {
   "cell_type": "code",
   "execution_count": 73,
   "metadata": {},
   "outputs": [
    {
     "name": "stderr",
     "output_type": "stream",
     "text": [
      "C:\\Users\\Minh\\AppData\\Local\\Temp\\ipykernel_16916\\3069238624.py:10: UserWarning: Matplotlib is currently using agg, which is a non-GUI backend, so cannot show the figure.\n",
      "  return plt.show()\n"
     ]
    }
   ],
   "source": [
    "creat_bar_chart(train_copy, 'Is high risk')"
   ]
  },
  {
   "cell_type": "code",
   "execution_count": 74,
   "metadata": {},
   "outputs": [
    {
     "name": "stderr",
     "output_type": "stream",
     "text": [
      "C:\\Users\\Minh\\AppData\\Local\\Temp\\ipykernel_16916\\1976869441.py:16: UserWarning: Matplotlib is currently using agg, which is a non-GUI backend, so cannot show the figure.\n",
      "  return plt.show()\n"
     ]
    }
   ],
   "source": [
    "creat_pie_plot(train_copy, 'Is high risk')"
   ]
  },
  {
   "cell_type": "markdown",
   "metadata": {},
   "source": [
    "### Chuẩn bị dữ liệu"
   ]
  },
  {
   "cell_type": "markdown",
   "metadata": {},
   "source": [
    "<ul>ID<br>\n",
    "    <li>Xóa thuộc tính </li>\n",
    "</ul>\n",
    "<ul>Gender<br>\n",
    "    <li>On hot conding </li>\n",
    "</ul>\n",
    "<ul>Age<br>\n",
    "    <li>Min max scalling </li>\n",
    "    <li>Fix skewnes </li>\n",
    "    <li>Abs value and div </li>\n",
    "</ul>\n",
    "<ul>\n",
    "Martial status<br>\n",
    "    <li> On hot coding </li>\n",
    "</ul>\n",
    "<ul>Children count<br>\n",
    "    <li> Fix outliers </li>\n",
    "    <li> Drop features </li>\n",
    "</ul>\n",
    "<ul>Dwelling type<br>\n",
    "    <li> On hot encoding </li>\n",
    "</ul>\n",
    "<ul>\n",
    "Income<br>\n",
    "    <li> Remove outliers </li>\n",
    "    <li> Fix skewness </li>\n",
    "    <li> Min max scalling </li>\n",
    "</ul>\n",
    "<ul>Job titile<br>\n",
    "    <li>  On hot conding </li>\n",
    "    <li> Fill  missing values </li>\n",
    "</ul>\n",
    "\n",
    "<ul>Employment status<br>\n",
    "    <li> Order by enconding </li>\n",
    "</ul>\n",
    "\n",
    "<ul>Employment length<br>\n",
    "    <li>Remove outliers</li>\n",
    "    <li>Min-max scaling</li>\n",
    "    <li>Abs value and div 365.25</li>\n",
    "    <li>change days of employments of retirees to 0</li>\n",
    "</ul>\n",
    "<ul>Has a car <br>\n",
    "    <li>Change it numerical</li>\n",
    "    <li>One-hot encoding</li>\n",
    "</ul>\n",
    "\n",
    "<ul>Has a property: <br>\n",
    "    <li>Change it numerical</li>\n",
    "    <li>One-hot encoding</li>\n",
    "</ul>\n",
    "\n",
    "<ul>Has a mobile phone: <br>\n",
    "    <li>Drop feature</li>\n",
    "</ul>\n",
    "<ul>Has a work phone: <br>\n",
    "    <li>One-hot encoding</li>\n",
    "</ul>\n",
    "<ul>Has a phone<br>\n",
    "    <li>One-hot encoding</li>\n",
    "</ul>\n",
    "<ul>Has a email: <br>\n",
    "    <li>One-hot encoding</li>\n",
    "</ul>\n",
    "<ul>Account age: <br>\n",
    "    <li>Drop table</li>\n",
    "</ul>\n",
    "<ul>\n",
    "Is high risk(Target):<br>\n",
    "    <li>Change the data type to numerical</li>\n",
    "    <li> balance the data with SMOTE</li>\n",
    "</ul>"
   ]
  },
  {
   "cell_type": "markdown",
   "metadata": {},
   "source": [
    "#### 3.1 Data selection\n",
    "##### 3.1.1 Drop features"
   ]
  },
  {
   "cell_type": "code",
   "execution_count": 75,
   "metadata": {},
   "outputs": [],
   "source": [
    "class DropFeatures(BaseEstimator, TransformerMixin):\n",
    "    def __init__(self, features_to_drop = ['ID', 'Has a mobile phone', 'Children count', 'Children count', 'Job title', 'Account age']):\n",
    "        features_to_drop = features_to_drop\n",
    "    def fit(self, df):\n",
    "        return self\n",
    "    def transform(self, df):\n",
    "        if (set(self.features_to_drop).issubset(df.collums)):\n",
    "            df.drop(self.features_to_drop, axis=1, inplace=True)\n",
    "            return df\n",
    "        else:\n",
    "            print(\"One more feature not in data frame\")\n",
    "            return df"
   ]
  },
  {
   "cell_type": "markdown",
   "metadata": {},
   "source": [
    "Tại sao ta có thể bỏ một số thuộc tính như trên đi?\n",
    "<li> ID: ID không có tác dụng trong việc dự đoán dữ liệu, nó chỉ giúp ta truy xuất dữ liệu và gộp các bảng lại</li>\n",
    "<li> Has a mobile phone: Hầu hết ai cũng có một điện thoại nên dữ liệu không giúp ích được gì lắm</li>\n",
    "<li>Children count: có độ tương quan cao với Family count nên ta chỉ giữ lại một dữ liệu để dự đoán </li>\n",
    "<li>Job title:Dữ liệu bị thiếu quá nhiều và nghề nghiệp không đa dạng lắm tập trung chủ yếu ở một số nghề </li>\n",
    "<li> Account age : Thông tin không giúp ích được nhiều để dự báo tín dụng </li>"
   ]
  },
  {
   "cell_type": "markdown",
   "metadata": {},
   "source": [
    "### 3.2 Feature engineerging\n",
    "#### 3.2.1 Time conversion"
   ]
  },
  {
   "cell_type": "code",
   "execution_count": 76,
   "metadata": {},
   "outputs": [],
   "source": [
    "class TimeConversionHandler(BaseEstimator, TransformerMixin):\n",
    "    def __init__(self, feat_with_days= ['Employment length', 'Age']):\n",
    "        feat_with_days = feat_with_days\n",
    "    def fit(self, X, y=None):\n",
    "        return X\n",
    "    def transform(self, X, y):\n",
    "        if (set(self.feat_with_days).issubset(X.collums)):\n",
    "            #Convert and abs time\n",
    "            X[['Employment length', 'Age']] = np.abs(X[['Employment length', 'Age']])\n",
    "            return X\n",
    "        else:\n",
    "            print(\"One of features are not in data frame\")\n",
    "            return X"
   ]
  },
  {
   "cell_type": "markdown",
   "metadata": {},
   "source": [
    "#### 3.2.2 Retiree handling (in employment length)"
   ]
  },
  {
   "cell_type": "code",
   "execution_count": 77,
   "metadata": {},
   "outputs": [],
   "source": [
    "class RetireeHandler(BaseEstimator, TransformerMixin):\n",
    "    def __init__(self):\n",
    "        pass\n",
    "    def fit(self, df):\n",
    "        return self\n",
    "    def transform(self, df):\n",
    "        if 'Employment length' in df.collums:\n",
    "            # Employment length is 365243 who is retiree\n",
    "            df_ret_idx = df['Employment length'][df['Employment length'] == 365243].index\n",
    "            #Change 365243 to 0\n",
    "            df.loc[df_ret_idx, 'Employment length'] = 0\n",
    "            return df\n",
    "        else:\n",
    "            print(\"Employment length is not in data frame\")\n",
    "            return df\n",
    "            "
   ]
  },
  {
   "cell_type": "markdown",
   "metadata": {},
   "source": [
    "##### 3.2.3 Skeness Handling"
   ]
  },
  {
   "cell_type": "code",
   "execution_count": 78,
   "metadata": {},
   "outputs": [],
   "source": [
    "class SkewnessHandler(BaseEstimator, TransformerMixin):\n",
    "    def __init__(self, features_with_skeness = ['Income', 'Age']):\n",
    "        self.features_with_skeness = features_with_skeness\n",
    "    def fit(self, df):\n",
    "        return self\n",
    "    def transform(self, df):\n",
    "        if (set(self.features_with_skeness).issubset(df.collums)):\n",
    "            df[self.features_with_skeness] = np.cbrt(df[self.features_with_skeness])\n",
    "            return df\n",
    "        else:\n",
    "            print(\"One of features is not in dataframe\")\n",
    "            return df"
   ]
  },
  {
   "cell_type": "markdown",
   "metadata": {},
   "source": [
    "#### 3.2.4 Bining"
   ]
  },
  {
   "cell_type": "code",
   "execution_count": 79,
   "metadata": {},
   "outputs": [],
   "source": [
    "class BinningNumToYN(BaseEstimator, TransformerMixin):\n",
    "    def __init__(self, features_with_binning=['Has a work phone', 'Has a phone', 'Has an email']):\n",
    "        self.features_with_binning = features_with_binning\n",
    "    def fit(self, df):\n",
    "        return self\n",
    "    def tranform(self, df):\n",
    "        if (set(self.features_with_binning).issubset(df.collums)):\n",
    "            for ft in self.features_with_binning:\n",
    "                df[ft] = df[ft].map({1:'Y', 0:'N'})\n",
    "            return df\n",
    "        else:\n",
    "            print(\"On of features is not in the dataframe\")\n",
    "            return df"
   ]
  },
  {
   "cell_type": "markdown",
   "metadata": {},
   "source": [
    "#### 3.2.5 On hot encoding"
   ]
  },
  {
   "cell_type": "code",
   "execution_count": 80,
   "metadata": {},
   "outputs": [],
   "source": [
    "class OneHotWithFeatNames(BaseEstimator, TransformerMixin):\n",
    "    def __init__(self, one_hot_enc = ['Gender', 'Martial status', 'Dwelling','Employment status', 'Has a car', 'Has a property', 'Has a work phone']):\n",
    "        self.one_hot_enc = one_hot_enc\n",
    "    def fit(self, df):\n",
    "        return self\n",
    "    def transform(self, df):\n",
    "        if set(self.one_hot_enc).issubset(df.comlums):\n",
    "            #function on hot encoding the features in on_hot_enc\n",
    "            def one_hot_enc(df, one_hot_enc):\n",
    "                one_hot_enc = OneHotEncoder()\n",
    "                one_hot_enc.fit(df[one_hot_enc])\n",
    "                #get one result of the one hot encoding collums names\n",
    "                feat_name_one_hot_enc = one_hot_enc.get_feature_names_out(one_hot_enc)\n",
    "                #tranforms the array of the one hot encoding to a dataframe with collums names\n",
    "                df = pd.DataFrame(one_hot_enc.transform(df[self.one_hot_enc]).toarray(), collums = feat_name_one_hot_enc, index = df.index)\n",
    "                return df\n",
    "            def concat_with_rest(df, one_hot_enc_df, one_hot_enc_ft):\n",
    "                #get the rest of features\n",
    "                rest_of_features = [ft for ft in df.collums if  ft not in one_hot_enc]\n",
    "                #concacate the rest of features with on hot encoded features\n",
    "                df_concat = pd.concat([one_hot_enc_df, df[rest_of_features]], axis = 1)\n",
    "                return df_concat\n",
    "            #encoding dataframe    \n",
    "            one_hot_enc = one_hot_enc(df, self.one_hot_enc)\n",
    "            #return the concatcatenated dataframe\n",
    "            full_df_enc_df = one_hot_enc(df, one_hot_enc, self.one_hot_enc_ft)\n",
    "            return full_df_enc_df\n",
    "        else:\n",
    "            print(\"One or more featrues are not in the dataframe\")\n",
    "            return df"
   ]
  },
  {
   "cell_type": "markdown",
   "metadata": {},
   "source": [
    "#### 3.2.6 Ordinal encoding (with feature's names)"
   ]
  },
  {
   "cell_type": "code",
   "execution_count": 81,
   "metadata": {},
   "outputs": [],
   "source": [
    "class OrdinalFeatNames(BaseEstimator, TransformerMixin):\n",
    "    def __init__(self, ordinal_enc_ft = ['Education level']):\n",
    "        self.ordinal_enc_ft = ordinal_enc_ft\n",
    "    def fit(self, df):\n",
    "        return self\n",
    "    def transform(self, df):\n",
    "        if 'Eduction level' in df.collums:\n",
    "            ordinal_enc = OrdinalEncoder()\n",
    "            df[self.ordinall_enc_ft] = ordinal_enc.fit_transform(df[self.ordinal_enc_ft])\n",
    "            return df\n",
    "        else:\n",
    "            print(\"Education levev is not in the dataframe\")\n",
    "            return df"
   ]
  },
  {
   "cell_type": "markdown",
   "metadata": {},
   "source": [
    "#### 3.27 Min Max scalling (with feature's name)"
   ]
  },
  {
   "cell_type": "code",
   "execution_count": 82,
   "metadata": {},
   "outputs": [],
   "source": [
    "class MinMaxWithFeatNames(BaseEstimator,TransformerMixin):\n",
    "    def __init__(self,min_max_scaler_ft = ['Age', 'Income', 'Employment length']):\n",
    "        self.min_max_scaler_ft = min_max_scaler_ft\n",
    "    def fit(self,df):\n",
    "        return self\n",
    "    def transform(self,df):\n",
    "        if (set(self.min_max_scaler_ft).issubset(df.columns)):\n",
    "            min_max_enc = MinMaxScaler()\n",
    "            df[self.min_max_scaler_ft] = min_max_enc.fit_transform(df[self.min_max_scaler_ft])\n",
    "            return df\n",
    "        else:\n",
    "            print(\"One or more features are not in the dataframe\")\n",
    "            return df"
   ]
  },
  {
   "cell_type": "markdown",
   "metadata": {},
   "source": [
    "#### 3.28 Change the data types of the target features"
   ]
  },
  {
   "cell_type": "code",
   "execution_count": 83,
   "metadata": {},
   "outputs": [],
   "source": [
    "class ChangeToNumTarget(BaseEstimator,TransformerMixin):\n",
    "    def __init__(self):\n",
    "        pass\n",
    "    def fit(self,df):\n",
    "        return self\n",
    "    def transform(self,df):\n",
    "        if 'Is high risk' in df.columns:\n",
    "            df['Is high risk'] = pd.to_numeric(df['Is high risk'])\n",
    "            return df\n",
    "        else:\n",
    "            print(\"Is high risk is not in the dataframe\")\n",
    "            return df"
   ]
  },
  {
   "cell_type": "markdown",
   "metadata": {},
   "source": [
    "#### 3.2.9 Oversampling"
   ]
  },
  {
   "cell_type": "code",
   "execution_count": 84,
   "metadata": {},
   "outputs": [],
   "source": [
    "class Oversample(BaseEstimator,TransformerMixin):\n",
    "    def __init__(self):\n",
    "        pass\n",
    "    def fit(self,df):\n",
    "        return self\n",
    "    def transform(self,df):\n",
    "        if 'Is high risk' in df.columns:\n",
    "            # smote function to oversample the minority class to fix the imbalance data\n",
    "            oversample = SMOTE(sampling_strategy='minority')\n",
    "            X_bal, y_bal = oversample.fit_resample(df.loc[:, df.columns != 'Is high risk'],df['Is high risk'])\n",
    "            df_bal = pd.concat([pd.DataFrame(X_bal),pd.DataFrame(y_bal)],axis=1)\n",
    "            return df_bal\n",
    "        else:\n",
    "            print(\"Is high risk is not in the dataframe\")\n",
    "            return df"
   ]
  },
  {
   "cell_type": "markdown",
   "metadata": {},
   "source": [
    "##### Chúng ta sử dụng cân bằng vì Is high risk = 1 quá hiếm trong data"
   ]
  },
  {
   "cell_type": "markdown",
   "metadata": {},
   "source": [
    "#### 3.3 Data cleaning"
   ]
  },
  {
   "cell_type": "markdown",
   "metadata": {},
   "source": [
    "#### 3.3.1 Outlier handling"
   ]
  },
  {
   "cell_type": "code",
   "execution_count": 85,
   "metadata": {},
   "outputs": [],
   "source": [
    "class OutlierRemover(BaseEstimator, TransformerMixin):\n",
    "    def __init__(self,feat_with_outliers = ['Family member count','Income', 'Employment length']):\n",
    "        self.feat_with_outliers = feat_with_outliers\n",
    "    def fit(self,df):\n",
    "        return self\n",
    "    def transform(self,df):\n",
    "        if (set(self.feat_with_outliers).issubset(df.columns)):\n",
    "            # 25% quantile\n",
    "            Q1 = df[self.feat_with_outliers].quantile(.25)\n",
    "            # 75% quantile\n",
    "            Q3 = df[self.feat_with_outliers].quantile(.75)\n",
    "            IQR = Q3 - Q1\n",
    "            # keep the data within 3 IQR\n",
    "            df = df[~((df[self.feat_with_outliers] < (Q1 - 3 * IQR)) |(df[self.feat_with_outliers] > (Q3 + 3 * IQR))).any(axis=1)]\n",
    "            return df\n",
    "        else:\n",
    "            print(\"One or more features are not in the dataframe\")\n",
    "            return df"
   ]
  },
  {
   "cell_type": "markdown",
   "metadata": {},
   "source": [
    "##### 3.4 Data preprocessing"
   ]
  },
  {
   "cell_type": "code",
   "execution_count": 86,
   "metadata": {},
   "outputs": [],
   "source": [
    "def full_pieline(df):\n",
    "    pipeline = Pieline([\n",
    "         ('outlier_remover', OutlierRemover()),\n",
    "        ('feature_dropper', DropFeatures()),\n",
    "        ('time_conversion_handler', TimeConversionHandler()),\n",
    "        ('retiree_handler', RetireeHandler()),\n",
    "        ('skewness_handler', SkewnessHandler()),\n",
    "        ('binning_num_to_yn', BinningNumToYN()),\n",
    "        ('one_hot_with_feat_names', OneHotWithFeatNames()),\n",
    "        ('ordinal_feat_names', OrdinalFeatNames()),\n",
    "        ('min_max_with_feat_names', MinMaxWithFeatNames()),\n",
    "        ('change_to_num_target', ChangeToNumTarget()),\n",
    "        ('oversample', Oversample())\n",
    "    ])"
   ]
  }
 ],
 "metadata": {
  "kernelspec": {
   "display_name": "base",
   "language": "python",
   "name": "python3"
  },
  "language_info": {
   "codemirror_mode": {
    "name": "ipython",
    "version": 3
   },
   "file_extension": ".py",
   "mimetype": "text/x-python",
   "name": "python",
   "nbconvert_exporter": "python",
   "pygments_lexer": "ipython3",
   "version": "3.9.12 (main, Apr  4 2022, 05:22:27) [MSC v.1916 64 bit (AMD64)]"
  },
  "orig_nbformat": 4,
  "vscode": {
   "interpreter": {
    "hash": "88279d2366fe020547cde40dd65aa0e3aa662a6ec1f3ca12d88834876c85e1a6"
   }
  }
 },
 "nbformat": 4,
 "nbformat_minor": 2
}
